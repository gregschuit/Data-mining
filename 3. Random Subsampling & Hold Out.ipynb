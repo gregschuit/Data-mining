{
 "cells": [
  {
   "cell_type": "markdown",
   "metadata": {},
   "source": [
    "# Random Subsampling & Hold Out"
   ]
  },
  {
   "cell_type": "code",
   "execution_count": 1,
   "metadata": {},
   "outputs": [],
   "source": [
    "import numpy as np\n",
    "import pandas as pd\n",
    "from sklearn.ensemble import RandomForestClassifier\n",
    "from sklearn.model_selection import train_test_split\n",
    "from sklearn.metrics import confusion_matrix, f1_score, accuracy_score, precision_score, recall_score"
   ]
  },
  {
   "cell_type": "code",
   "execution_count": 2,
   "metadata": {},
   "outputs": [],
   "source": [
    "df = pd.read_csv('data/naive-db.csv')"
   ]
  },
  {
   "cell_type": "code",
   "execution_count": 3,
   "metadata": {},
   "outputs": [
    {
     "data": {
      "text/html": [
       "<div>\n",
       "<style scoped>\n",
       "    .dataframe tbody tr th:only-of-type {\n",
       "        vertical-align: middle;\n",
       "    }\n",
       "\n",
       "    .dataframe tbody tr th {\n",
       "        vertical-align: top;\n",
       "    }\n",
       "\n",
       "    .dataframe thead th {\n",
       "        text-align: right;\n",
       "    }\n",
       "</style>\n",
       "<table border=\"1\" class=\"dataframe\">\n",
       "  <thead>\n",
       "    <tr style=\"text-align: right;\">\n",
       "      <th></th>\n",
       "      <th>label</th>\n",
       "      <th>Amplitude_bin</th>\n",
       "      <th>Amplitude</th>\n",
       "      <th>Std_bin</th>\n",
       "      <th>Std</th>\n",
       "      <th>PeriodLS_bin</th>\n",
       "      <th>PeriodLS</th>\n",
       "      <th>Mean_bin</th>\n",
       "      <th>Mean</th>\n",
       "      <th>MaxSlope_bin</th>\n",
       "      <th>MaxSlope</th>\n",
       "      <th>Meanvariance_bin</th>\n",
       "      <th>Meanvariance</th>\n",
       "      <th>LinearTrend</th>\n",
       "      <th>LinearTrend_bin</th>\n",
       "    </tr>\n",
       "  </thead>\n",
       "  <tbody>\n",
       "    <tr>\n",
       "      <th>0</th>\n",
       "      <td>0</td>\n",
       "      <td>7</td>\n",
       "      <td>0.53300</td>\n",
       "      <td>6</td>\n",
       "      <td>0.283701</td>\n",
       "      <td>5</td>\n",
       "      <td>1.089524</td>\n",
       "      <td>17</td>\n",
       "      <td>19.338182</td>\n",
       "      <td>15</td>\n",
       "      <td>7.039598</td>\n",
       "      <td>3</td>\n",
       "      <td>0.014671</td>\n",
       "      <td>0.000036</td>\n",
       "      <td>11</td>\n",
       "    </tr>\n",
       "    <tr>\n",
       "      <th>1</th>\n",
       "      <td>0</td>\n",
       "      <td>6</td>\n",
       "      <td>0.27150</td>\n",
       "      <td>3</td>\n",
       "      <td>0.127947</td>\n",
       "      <td>7</td>\n",
       "      <td>3.209689</td>\n",
       "      <td>18</td>\n",
       "      <td>19.586202</td>\n",
       "      <td>15</td>\n",
       "      <td>10.640067</td>\n",
       "      <td>2</td>\n",
       "      <td>0.006533</td>\n",
       "      <td>-0.000015</td>\n",
       "      <td>10</td>\n",
       "    </tr>\n",
       "    <tr>\n",
       "      <th>2</th>\n",
       "      <td>0</td>\n",
       "      <td>6</td>\n",
       "      <td>0.30150</td>\n",
       "      <td>3</td>\n",
       "      <td>0.138996</td>\n",
       "      <td>6</td>\n",
       "      <td>2.268446</td>\n",
       "      <td>18</td>\n",
       "      <td>19.913902</td>\n",
       "      <td>15</td>\n",
       "      <td>21.778886</td>\n",
       "      <td>2</td>\n",
       "      <td>0.006980</td>\n",
       "      <td>-0.000007</td>\n",
       "      <td>11</td>\n",
       "    </tr>\n",
       "    <tr>\n",
       "      <th>3</th>\n",
       "      <td>0</td>\n",
       "      <td>5</td>\n",
       "      <td>0.16400</td>\n",
       "      <td>2</td>\n",
       "      <td>0.095606</td>\n",
       "      <td>5</td>\n",
       "      <td>1.561432</td>\n",
       "      <td>9</td>\n",
       "      <td>15.151209</td>\n",
       "      <td>15</td>\n",
       "      <td>0.353493</td>\n",
       "      <td>2</td>\n",
       "      <td>0.006310</td>\n",
       "      <td>0.000001</td>\n",
       "      <td>10</td>\n",
       "    </tr>\n",
       "    <tr>\n",
       "      <th>4</th>\n",
       "      <td>0</td>\n",
       "      <td>5</td>\n",
       "      <td>0.11125</td>\n",
       "      <td>2</td>\n",
       "      <td>0.056008</td>\n",
       "      <td>5</td>\n",
       "      <td>1.166648</td>\n",
       "      <td>15</td>\n",
       "      <td>18.361809</td>\n",
       "      <td>15</td>\n",
       "      <td>17.002882</td>\n",
       "      <td>1</td>\n",
       "      <td>0.003050</td>\n",
       "      <td>0.000002</td>\n",
       "      <td>11</td>\n",
       "    </tr>\n",
       "  </tbody>\n",
       "</table>\n",
       "</div>"
      ],
      "text/plain": [
       "   label  Amplitude_bin  Amplitude  Std_bin       Std  PeriodLS_bin  PeriodLS  \\\n",
       "0      0              7    0.53300        6  0.283701             5  1.089524   \n",
       "1      0              6    0.27150        3  0.127947             7  3.209689   \n",
       "2      0              6    0.30150        3  0.138996             6  2.268446   \n",
       "3      0              5    0.16400        2  0.095606             5  1.561432   \n",
       "4      0              5    0.11125        2  0.056008             5  1.166648   \n",
       "\n",
       "   Mean_bin       Mean  MaxSlope_bin   MaxSlope  Meanvariance_bin  \\\n",
       "0        17  19.338182            15   7.039598                 3   \n",
       "1        18  19.586202            15  10.640067                 2   \n",
       "2        18  19.913902            15  21.778886                 2   \n",
       "3         9  15.151209            15   0.353493                 2   \n",
       "4        15  18.361809            15  17.002882                 1   \n",
       "\n",
       "   Meanvariance  LinearTrend  LinearTrend_bin  \n",
       "0      0.014671     0.000036               11  \n",
       "1      0.006533    -0.000015               10  \n",
       "2      0.006980    -0.000007               11  \n",
       "3      0.006310     0.000001               10  \n",
       "4      0.003050     0.000002               11  "
      ]
     },
     "execution_count": 3,
     "metadata": {},
     "output_type": "execute_result"
    }
   ],
   "source": [
    "df.head()"
   ]
  },
  {
   "cell_type": "code",
   "execution_count": 7,
   "metadata": {},
   "outputs": [],
   "source": [
    "def hold_out(data, clf, target='label'):\n",
    "    \n",
    "    X = data\n",
    "    y = data[target]\n",
    "    \n",
    "    X_train, X_test, y_train, y_test = train_test_split(X, y, test_size=0.3, stratify=y)\n",
    "    \n",
    "    clf.fit(X_train, y_train)\n",
    "    y_pred = clf.predict(X_test)\n",
    "    \n",
    "    f1 = f1_score(y_test, y_pred, average='micro')\n",
    "    recall = recall_score(y_test, y_pred, average='micro')\n",
    "    prec = precision_score(y_test, y_pred, average='micro')\n",
    "    accuracy = accuracy_score(y_test, y_pred)\n",
    "    matrix = confusion_matrix(y_test, y_pred)\n",
    "    \n",
    "    return recall, prec, f1, accuracy, matrix"
   ]
  },
  {
   "cell_type": "code",
   "execution_count": 36,
   "metadata": {},
   "outputs": [],
   "source": [
    "def random_subsampling(data, clf, B, target='label'):\n",
    "    \n",
    "    recall_sum = 0\n",
    "    prec_sum = 0\n",
    "    f1_sum = 0\n",
    "    accuracy_sum = 0\n",
    "    matrix_sum = None\n",
    "    \n",
    "    for i in range(B):\n",
    "        recall, prec, f1, accuracy, matrix = hold_out(data, clf)\n",
    "        \n",
    "        recall_sum += recall\n",
    "        prec_sum += prec\n",
    "        f1_sum += f1\n",
    "        accuracy_sum += accuracy\n",
    "\n",
    "        if matrix_sum is None:\n",
    "            matrix_sum = matrix\n",
    "        else:\n",
    "            matrix_sum += matrix\n",
    "\n",
    "    return recall_sum / B, prec_sum / B, f1_sum / B, accuracy_sum / B, matrix_sum"
   ]
  },
  {
   "cell_type": "code",
   "execution_count": 32,
   "metadata": {},
   "outputs": [],
   "source": [
    "clf = RandomForestClassifier(n_estimators=100, max_depth=5)"
   ]
  },
  {
   "cell_type": "code",
   "execution_count": 22,
   "metadata": {},
   "outputs": [
    {
     "name": "stdout",
     "output_type": "stream",
     "text": [
      "recall: 0.979\n",
      "precision: 0.979\n",
      "f1: 0.979\n",
      "Accuracy: 0.979\n",
      "Conf. Matrix:\n",
      " [[2999    1    0    0    0    0    0]\n",
      " [   1 2491    0    0    0   10    0]\n",
      " [   1    1 2997    0    0    1    0]\n",
      " [   0    0    2 2995    0    3    0]\n",
      " [   0    0    0   34 2948   17    1]\n",
      " [   0    0    6    2    1 2989    2]\n",
      " [   0    0   37  111   73   80  221]]\n"
     ]
    }
   ],
   "source": [
    "recall, precision, f1, acc, confmat = hold_out(df, clf)\n",
    "print(\"recall: {:.3f}\\nprecision: {:.3f}\\nf1: {:.3f}\\nAccuracy: {:.3f}\\nConf. Matrix:\\n {}\".format(recall, precision, f1, acc, confmat))"
   ]
  },
  {
   "cell_type": "code",
   "execution_count": 37,
   "metadata": {},
   "outputs": [
    {
     "name": "stdout",
     "output_type": "stream",
     "text": [
      "recall: 0.973\n",
      "precision: 0.973\n",
      "f1: 0.973\n",
      "Accuracy: 0.973\n",
      "Conf. Matrix:\n",
      " [[5972    4   24    0    0    0    0]\n",
      " [   3 4965    0    2    0   34    0]\n",
      " [   1    1 5913    0    0   85    0]\n",
      " [   0    0    8 5977   12    3    0]\n",
      " [   5    0    1   79 5895   17    3]\n",
      " [   1    0   21    5    2 5970    1]\n",
      " [  13    0  107  271  135  147  371]]\n"
     ]
    }
   ],
   "source": [
    "recall, precision, f1, acc, confmat = random_subsampling(df, clf, 2)\n",
    "print(\"recall: {:.3f}\\nprecision: {:.3f}\\nf1: {:.3f}\\nAccuracy: {:.3f}\\nConf. Matrix:\\n {}\".format(recall, precision, f1, acc, confmat))"
   ]
  },
  {
   "cell_type": "code",
   "execution_count": null,
   "metadata": {},
   "outputs": [],
   "source": []
  }
 ],
 "metadata": {
  "kernelspec": {
   "display_name": "Python 3",
   "language": "python",
   "name": "python3"
  },
  "language_info": {
   "codemirror_mode": {
    "name": "ipython",
    "version": 3
   },
   "file_extension": ".py",
   "mimetype": "text/x-python",
   "name": "python",
   "nbconvert_exporter": "python",
   "pygments_lexer": "ipython3",
   "version": "3.7.3"
  }
 },
 "nbformat": 4,
 "nbformat_minor": 2
}
