{
 "cells": [
  {
   "cell_type": "markdown",
   "metadata": {},
   "source": [
    "# Naive Bayes"
   ]
  },
  {
   "cell_type": "markdown",
   "metadata": {},
   "source": [
    "Teorema de Bayes:"
   ]
  },
  {
   "cell_type": "code",
   "execution_count": 2,
   "metadata": {
    "scrolled": true
   },
   "outputs": [
    {
     "data": {
      "text/latex": [
       "$P(A|B) = \\frac{P(B|A) \\cdot P(A)}{P(B)}$"
      ],
      "text/plain": [
       "<IPython.core.display.Latex object>"
      ]
     },
     "metadata": {},
     "output_type": "display_data"
    }
   ],
   "source": [
    "%%latex\n",
    "$P(A|B) = \\frac{P(B|A) \\cdot P(A)}{P(B)}$"
   ]
  },
  {
   "cell_type": "code",
   "execution_count": 3,
   "metadata": {},
   "outputs": [],
   "source": [
    "import pandas as pd\n",
    "import numpy as np\n",
    "from scipy.stats import norm"
   ]
  },
  {
   "cell_type": "code",
   "execution_count": 4,
   "metadata": {},
   "outputs": [],
   "source": [
    "df = pd.read_csv(\"data/naive-db.csv\")"
   ]
  },
  {
   "cell_type": "code",
   "execution_count": 5,
   "metadata": {},
   "outputs": [
    {
     "data": {
      "text/html": [
       "<div>\n",
       "<style scoped>\n",
       "    .dataframe tbody tr th:only-of-type {\n",
       "        vertical-align: middle;\n",
       "    }\n",
       "\n",
       "    .dataframe tbody tr th {\n",
       "        vertical-align: top;\n",
       "    }\n",
       "\n",
       "    .dataframe thead th {\n",
       "        text-align: right;\n",
       "    }\n",
       "</style>\n",
       "<table border=\"1\" class=\"dataframe\">\n",
       "  <thead>\n",
       "    <tr style=\"text-align: right;\">\n",
       "      <th></th>\n",
       "      <th>label</th>\n",
       "      <th>Amplitude_bin</th>\n",
       "      <th>Amplitude</th>\n",
       "      <th>Std_bin</th>\n",
       "      <th>Std</th>\n",
       "      <th>PeriodLS_bin</th>\n",
       "      <th>PeriodLS</th>\n",
       "      <th>Mean_bin</th>\n",
       "      <th>Mean</th>\n",
       "      <th>MaxSlope_bin</th>\n",
       "      <th>MaxSlope</th>\n",
       "      <th>Meanvariance_bin</th>\n",
       "      <th>Meanvariance</th>\n",
       "      <th>LinearTrend</th>\n",
       "      <th>LinearTrend_bin</th>\n",
       "    </tr>\n",
       "  </thead>\n",
       "  <tbody>\n",
       "    <tr>\n",
       "      <th>0</th>\n",
       "      <td>0</td>\n",
       "      <td>7</td>\n",
       "      <td>0.53300</td>\n",
       "      <td>6</td>\n",
       "      <td>0.283701</td>\n",
       "      <td>5</td>\n",
       "      <td>1.089524</td>\n",
       "      <td>17</td>\n",
       "      <td>19.338182</td>\n",
       "      <td>15</td>\n",
       "      <td>7.039598</td>\n",
       "      <td>3</td>\n",
       "      <td>0.014671</td>\n",
       "      <td>0.000036</td>\n",
       "      <td>11</td>\n",
       "    </tr>\n",
       "    <tr>\n",
       "      <th>1</th>\n",
       "      <td>0</td>\n",
       "      <td>6</td>\n",
       "      <td>0.27150</td>\n",
       "      <td>3</td>\n",
       "      <td>0.127947</td>\n",
       "      <td>7</td>\n",
       "      <td>3.209689</td>\n",
       "      <td>18</td>\n",
       "      <td>19.586202</td>\n",
       "      <td>15</td>\n",
       "      <td>10.640067</td>\n",
       "      <td>2</td>\n",
       "      <td>0.006533</td>\n",
       "      <td>-0.000015</td>\n",
       "      <td>10</td>\n",
       "    </tr>\n",
       "    <tr>\n",
       "      <th>2</th>\n",
       "      <td>0</td>\n",
       "      <td>6</td>\n",
       "      <td>0.30150</td>\n",
       "      <td>3</td>\n",
       "      <td>0.138996</td>\n",
       "      <td>6</td>\n",
       "      <td>2.268446</td>\n",
       "      <td>18</td>\n",
       "      <td>19.913902</td>\n",
       "      <td>15</td>\n",
       "      <td>21.778886</td>\n",
       "      <td>2</td>\n",
       "      <td>0.006980</td>\n",
       "      <td>-0.000007</td>\n",
       "      <td>11</td>\n",
       "    </tr>\n",
       "    <tr>\n",
       "      <th>3</th>\n",
       "      <td>0</td>\n",
       "      <td>5</td>\n",
       "      <td>0.16400</td>\n",
       "      <td>2</td>\n",
       "      <td>0.095606</td>\n",
       "      <td>5</td>\n",
       "      <td>1.561432</td>\n",
       "      <td>9</td>\n",
       "      <td>15.151209</td>\n",
       "      <td>15</td>\n",
       "      <td>0.353493</td>\n",
       "      <td>2</td>\n",
       "      <td>0.006310</td>\n",
       "      <td>0.000001</td>\n",
       "      <td>10</td>\n",
       "    </tr>\n",
       "    <tr>\n",
       "      <th>4</th>\n",
       "      <td>0</td>\n",
       "      <td>5</td>\n",
       "      <td>0.11125</td>\n",
       "      <td>2</td>\n",
       "      <td>0.056008</td>\n",
       "      <td>5</td>\n",
       "      <td>1.166648</td>\n",
       "      <td>15</td>\n",
       "      <td>18.361809</td>\n",
       "      <td>15</td>\n",
       "      <td>17.002882</td>\n",
       "      <td>1</td>\n",
       "      <td>0.003050</td>\n",
       "      <td>0.000002</td>\n",
       "      <td>11</td>\n",
       "    </tr>\n",
       "  </tbody>\n",
       "</table>\n",
       "</div>"
      ],
      "text/plain": [
       "   label  Amplitude_bin  Amplitude  Std_bin       Std  PeriodLS_bin  PeriodLS  \\\n",
       "0      0              7    0.53300        6  0.283701             5  1.089524   \n",
       "1      0              6    0.27150        3  0.127947             7  3.209689   \n",
       "2      0              6    0.30150        3  0.138996             6  2.268446   \n",
       "3      0              5    0.16400        2  0.095606             5  1.561432   \n",
       "4      0              5    0.11125        2  0.056008             5  1.166648   \n",
       "\n",
       "   Mean_bin       Mean  MaxSlope_bin   MaxSlope  Meanvariance_bin  \\\n",
       "0        17  19.338182            15   7.039598                 3   \n",
       "1        18  19.586202            15  10.640067                 2   \n",
       "2        18  19.913902            15  21.778886                 2   \n",
       "3         9  15.151209            15   0.353493                 2   \n",
       "4        15  18.361809            15  17.002882                 1   \n",
       "\n",
       "   Meanvariance  LinearTrend  LinearTrend_bin  \n",
       "0      0.014671     0.000036               11  \n",
       "1      0.006533    -0.000015               10  \n",
       "2      0.006980    -0.000007               11  \n",
       "3      0.006310     0.000001               10  \n",
       "4      0.003050     0.000002               11  "
      ]
     },
     "execution_count": 5,
     "metadata": {},
     "output_type": "execute_result"
    }
   ],
   "source": [
    "df.head()"
   ]
  },
  {
   "cell_type": "code",
   "execution_count": 6,
   "metadata": {},
   "outputs": [
    {
     "data": {
      "text/plain": [
       "array([0, 1, 2, 3, 4, 5, 6])"
      ]
     },
     "execution_count": 6,
     "metadata": {},
     "output_type": "execute_result"
    }
   ],
   "source": [
    "df['label'].unique()"
   ]
  },
  {
   "cell_type": "code",
   "execution_count": 7,
   "metadata": {},
   "outputs": [
    {
     "data": {
      "text/plain": [
       "(48061, 12016)"
      ]
     },
     "execution_count": 7,
     "metadata": {},
     "output_type": "execute_result"
    }
   ],
   "source": [
    "np.random.seed(123)\n",
    "shuffled = df.loc[np.random.permutation(df.index)]\n",
    "\n",
    "percentil80 = int(len(df)*0.8)\n",
    "train = shuffled[:percentil80]\n",
    "test = shuffled[percentil80:]\n",
    "\n",
    "len(train), len(test)"
   ]
  },
  {
   "cell_type": "markdown",
   "metadata": {},
   "source": [
    "Que clase es mas probable dado los datos?\n",
    "\n",
    "$P(0\\ |\\ Features) =\\ ?$  \n",
    "$P(1\\ |\\ Features) =\\ ?$  \n",
    "$P(2\\ |\\ Features) =\\ ?$  \n",
    "$P(3\\ |\\ Features) =\\ ?$  \n",
    "$P(4\\ |\\ Features) =\\ ?$  \n",
    "$P(5\\ |\\ Features) =\\ ?$  \n",
    "\n",
    "Debemos tomar el $argmax_c\\{ P(c\\ |\\ Features)\\}$.\n",
    "\n",
    "**Por teorema de Bayes:**\n",
    "\n",
    "$P(L\\ |\\ x_1, x_2, x_3)\\ =\\ \\frac{P(x_1,\\ x_2,\\ x_3\\ |\\ L)\\ \\cdot\\ P(L)}\n",
    "                                 {P(x_1,\\ x_2,\\ x_3)}$\n",
    "                                 \n",
    "**Si asumimos independencia entre las features, obtenemos:**\n",
    "\n",
    "$P(L\\ |\\ x_1, x_2, x_3)\\ \\propto\\ P(L)\\ \\cdot\n",
    "                                  P(x_1\\ |\\ L)\\ \\cdot\n",
    "                                  P(x_2\\ |\\ L)\\ \\cdot\n",
    "                                  P(x_3\\ |\\ L)\\ \\cdot\n",
    "                                  P(x_4\\ |\\ L)\\ \\cdots$"
   ]
  },
  {
   "cell_type": "code",
   "execution_count": 16,
   "metadata": {},
   "outputs": [],
   "source": [
    "mu_matrix = []\n",
    "sigma_matrix = []\n",
    "for label in train['label'].unique():\n",
    "    mus_given_L = []\n",
    "    sigmas_given_L = []\n",
    "    for feature in train.columns[train.columns != 'label']:\n",
    "        mus_given_L.append(train[train['label'] == label][feature].mean())\n",
    "        sigmas_given_L.append(train[train['label'] == label][feature].std())\n",
    "    mu_matrix.append(mus_given_L)\n",
    "    sigmas_matrix.append(sigmas_given_L)\n",
    "    \n",
    "def p_class(L_value):\n",
    "    return train['label'][train['label'] == L_value].count() / len(train)\n",
    "\n",
    "labels_probabilities = [p_class(label) for label in train.columns]\n",
    "\n",
    "\n",
    "def proportional_class_given_row(L_value, row):\n",
    "    product = labels_probabilities[list(test.columns).index(L_value)]\n",
    "    for feature in row.index[row.index != 'label']:\n",
    "        f_value = row[feature]\n",
    "        mu = mu_matrix[list(test.columns).index(L_value)]  # # ESTO UEDA PENDIENTE, DEBI HABER HEHO UN DF, NO MATRI\n",
    "        product *= norm(m(feature, f_value, L_value)\n",
    "    return product"
   ]
  },
  {
   "cell_type": "code",
   "execution_count": 17,
   "metadata": {},
   "outputs": [
    {
     "data": {
      "text/plain": [
       "1.2777322603745798e-109"
      ]
     },
     "execution_count": 17,
     "metadata": {},
     "output_type": "execute_result"
    }
   ],
   "source": [
    "proportional_class_given_row(0, train.iloc[0])"
   ]
  },
  {
   "cell_type": "code",
   "execution_count": 18,
   "metadata": {},
   "outputs": [
    {
     "name": "stderr",
     "output_type": "stream",
     "text": [
      "/home/gregschuit/anaconda3/lib/python3.6/site-packages/scipy/stats/_distn_infrastructure.py:1652: RuntimeWarning: invalid value encountered in double_scalars\n",
      "  x = np.asarray((x - loc)/scale, dtype=dtyp)\n",
      "/home/gregschuit/anaconda3/lib/python3.6/site-packages/scipy/stats/_distn_infrastructure.py:1652: RuntimeWarning: divide by zero encountered in double_scalars\n",
      "  x = np.asarray((x - loc)/scale, dtype=dtyp)\n"
     ]
    },
    {
     "ename": "KeyboardInterrupt",
     "evalue": "",
     "output_type": "error",
     "traceback": [
      "\u001b[0;31m---------------------------------------------------------------------------\u001b[0m",
      "\u001b[0;31mKeyboardInterrupt\u001b[0m                         Traceback (most recent call last)",
      "\u001b[0;32m<ipython-input-18-564f183beb3f>\u001b[0m in \u001b[0;36m<module>\u001b[0;34m()\u001b[0m\n\u001b[1;32m      6\u001b[0m     \u001b[0mmaximo\u001b[0m \u001b[0;34m=\u001b[0m \u001b[0;36m0\u001b[0m\u001b[0;34m\u001b[0m\u001b[0m\n\u001b[1;32m      7\u001b[0m     \u001b[0;32mfor\u001b[0m \u001b[0mL_value\u001b[0m \u001b[0;32min\u001b[0m \u001b[0mtest\u001b[0m\u001b[0;34m[\u001b[0m\u001b[0;34m'label'\u001b[0m\u001b[0;34m]\u001b[0m\u001b[0;34m.\u001b[0m\u001b[0munique\u001b[0m\u001b[0;34m(\u001b[0m\u001b[0;34m)\u001b[0m\u001b[0;34m:\u001b[0m\u001b[0;34m\u001b[0m\u001b[0m\n\u001b[0;32m----> 8\u001b[0;31m         \u001b[0mp\u001b[0m \u001b[0;34m=\u001b[0m \u001b[0mproportional_class_given_row\u001b[0m\u001b[0;34m(\u001b[0m\u001b[0mL_value\u001b[0m\u001b[0;34m,\u001b[0m \u001b[0mrow\u001b[0m\u001b[0;34m)\u001b[0m\u001b[0;34m\u001b[0m\u001b[0m\n\u001b[0m\u001b[1;32m      9\u001b[0m         \u001b[0;32mif\u001b[0m \u001b[0mp\u001b[0m \u001b[0;34m>\u001b[0m \u001b[0mmaximo\u001b[0m\u001b[0;34m:\u001b[0m\u001b[0;34m\u001b[0m\u001b[0m\n\u001b[1;32m     10\u001b[0m             \u001b[0mmaximo\u001b[0m \u001b[0;34m=\u001b[0m \u001b[0mp\u001b[0m\u001b[0;34m\u001b[0m\u001b[0m\n",
      "\u001b[0;32m<ipython-input-16-93057413052b>\u001b[0m in \u001b[0;36mproportional_class_given_row\u001b[0;34m(L_value, row)\u001b[0m\n\u001b[1;32m     11\u001b[0m     \u001b[0mproduct\u001b[0m \u001b[0;34m=\u001b[0m \u001b[0mp_class\u001b[0m\u001b[0;34m(\u001b[0m\u001b[0mL_value\u001b[0m\u001b[0;34m)\u001b[0m\u001b[0;34m\u001b[0m\u001b[0m\n\u001b[1;32m     12\u001b[0m     \u001b[0;32mfor\u001b[0m \u001b[0mfeature\u001b[0m \u001b[0;32min\u001b[0m \u001b[0mrow\u001b[0m\u001b[0;34m.\u001b[0m\u001b[0mindex\u001b[0m\u001b[0;34m[\u001b[0m\u001b[0mrow\u001b[0m\u001b[0;34m.\u001b[0m\u001b[0mindex\u001b[0m \u001b[0;34m!=\u001b[0m \u001b[0;34m'label'\u001b[0m\u001b[0;34m]\u001b[0m\u001b[0;34m:\u001b[0m\u001b[0;34m\u001b[0m\u001b[0m\n\u001b[0;32m---> 13\u001b[0;31m         \u001b[0mf_value\u001b[0m \u001b[0;34m=\u001b[0m \u001b[0mrow\u001b[0m\u001b[0;34m[\u001b[0m\u001b[0mfeature\u001b[0m\u001b[0;34m]\u001b[0m\u001b[0;34m\u001b[0m\u001b[0m\n\u001b[0m\u001b[1;32m     14\u001b[0m         \u001b[0mproduct\u001b[0m \u001b[0;34m*=\u001b[0m \u001b[0mp_feature_given_class\u001b[0m\u001b[0;34m(\u001b[0m\u001b[0mfeature\u001b[0m\u001b[0;34m,\u001b[0m \u001b[0mf_value\u001b[0m\u001b[0;34m,\u001b[0m \u001b[0mL_value\u001b[0m\u001b[0;34m)\u001b[0m\u001b[0;34m\u001b[0m\u001b[0m\n\u001b[1;32m     15\u001b[0m     \u001b[0;32mreturn\u001b[0m \u001b[0mproduct\u001b[0m\u001b[0;34m\u001b[0m\u001b[0m\n",
      "\u001b[0;32m~/anaconda3/lib/python3.6/site-packages/pandas/core/series.py\u001b[0m in \u001b[0;36m__getitem__\u001b[0;34m(self, key)\u001b[0m\n\u001b[1;32m    764\u001b[0m         \u001b[0mkey\u001b[0m \u001b[0;34m=\u001b[0m \u001b[0mcom\u001b[0m\u001b[0;34m.\u001b[0m\u001b[0m_apply_if_callable\u001b[0m\u001b[0;34m(\u001b[0m\u001b[0mkey\u001b[0m\u001b[0;34m,\u001b[0m \u001b[0mself\u001b[0m\u001b[0;34m)\u001b[0m\u001b[0;34m\u001b[0m\u001b[0m\n\u001b[1;32m    765\u001b[0m         \u001b[0;32mtry\u001b[0m\u001b[0;34m:\u001b[0m\u001b[0;34m\u001b[0m\u001b[0m\n\u001b[0;32m--> 766\u001b[0;31m             \u001b[0mresult\u001b[0m \u001b[0;34m=\u001b[0m \u001b[0mself\u001b[0m\u001b[0;34m.\u001b[0m\u001b[0mindex\u001b[0m\u001b[0;34m.\u001b[0m\u001b[0mget_value\u001b[0m\u001b[0;34m(\u001b[0m\u001b[0mself\u001b[0m\u001b[0;34m,\u001b[0m \u001b[0mkey\u001b[0m\u001b[0;34m)\u001b[0m\u001b[0;34m\u001b[0m\u001b[0m\n\u001b[0m\u001b[1;32m    767\u001b[0m \u001b[0;34m\u001b[0m\u001b[0m\n\u001b[1;32m    768\u001b[0m             \u001b[0;32mif\u001b[0m \u001b[0;32mnot\u001b[0m \u001b[0mis_scalar\u001b[0m\u001b[0;34m(\u001b[0m\u001b[0mresult\u001b[0m\u001b[0;34m)\u001b[0m\u001b[0;34m:\u001b[0m\u001b[0;34m\u001b[0m\u001b[0m\n",
      "\u001b[0;32m~/anaconda3/lib/python3.6/site-packages/pandas/core/indexes/base.py\u001b[0m in \u001b[0;36mget_value\u001b[0;34m(self, series, key)\u001b[0m\n\u001b[1;32m   3081\u001b[0m         \u001b[0;31m# if we have something that is Index-like, then\u001b[0m\u001b[0;34m\u001b[0m\u001b[0;34m\u001b[0m\u001b[0m\n\u001b[1;32m   3082\u001b[0m         \u001b[0;31m# use this, e.g. DatetimeIndex\u001b[0m\u001b[0;34m\u001b[0m\u001b[0;34m\u001b[0m\u001b[0m\n\u001b[0;32m-> 3083\u001b[0;31m         \u001b[0ms\u001b[0m \u001b[0;34m=\u001b[0m \u001b[0mgetattr\u001b[0m\u001b[0;34m(\u001b[0m\u001b[0mseries\u001b[0m\u001b[0;34m,\u001b[0m \u001b[0;34m'_values'\u001b[0m\u001b[0;34m,\u001b[0m \u001b[0;32mNone\u001b[0m\u001b[0;34m)\u001b[0m\u001b[0;34m\u001b[0m\u001b[0m\n\u001b[0m\u001b[1;32m   3084\u001b[0m         \u001b[0;32mif\u001b[0m \u001b[0misinstance\u001b[0m\u001b[0;34m(\u001b[0m\u001b[0ms\u001b[0m\u001b[0;34m,\u001b[0m \u001b[0;34m(\u001b[0m\u001b[0mExtensionArray\u001b[0m\u001b[0;34m,\u001b[0m \u001b[0mIndex\u001b[0m\u001b[0;34m)\u001b[0m\u001b[0;34m)\u001b[0m \u001b[0;32mand\u001b[0m \u001b[0mis_scalar\u001b[0m\u001b[0;34m(\u001b[0m\u001b[0mkey\u001b[0m\u001b[0;34m)\u001b[0m\u001b[0;34m:\u001b[0m\u001b[0;34m\u001b[0m\u001b[0m\n\u001b[1;32m   3085\u001b[0m             \u001b[0;31m# GH 20825\u001b[0m\u001b[0;34m\u001b[0m\u001b[0;34m\u001b[0m\u001b[0m\n",
      "\u001b[0;32m~/anaconda3/lib/python3.6/site-packages/pandas/core/series.py\u001b[0m in \u001b[0;36m_values\u001b[0;34m(self)\u001b[0m\n\u001b[1;32m    462\u001b[0m         \u001b[0;32mreturn\u001b[0m \u001b[0mself\u001b[0m\u001b[0;34m.\u001b[0m\u001b[0m_data\u001b[0m\u001b[0;34m.\u001b[0m\u001b[0mexternal_values\u001b[0m\u001b[0;34m(\u001b[0m\u001b[0;34m)\u001b[0m\u001b[0;34m\u001b[0m\u001b[0m\n\u001b[1;32m    463\u001b[0m \u001b[0;34m\u001b[0m\u001b[0m\n\u001b[0;32m--> 464\u001b[0;31m     \u001b[0;34m@\u001b[0m\u001b[0mproperty\u001b[0m\u001b[0;34m\u001b[0m\u001b[0m\n\u001b[0m\u001b[1;32m    465\u001b[0m     \u001b[0;32mdef\u001b[0m \u001b[0m_values\u001b[0m\u001b[0;34m(\u001b[0m\u001b[0mself\u001b[0m\u001b[0;34m)\u001b[0m\u001b[0;34m:\u001b[0m\u001b[0;34m\u001b[0m\u001b[0m\n\u001b[1;32m    466\u001b[0m         \u001b[0;34m\"\"\" return the internal repr of this data \"\"\"\u001b[0m\u001b[0;34m\u001b[0m\u001b[0m\n",
      "\u001b[0;31mKeyboardInterrupt\u001b[0m: "
     ]
    }
   ],
   "source": [
    "# Clasificamos una fila cualquiera\n",
    "correct = 0\n",
    "wrong = 0\n",
    "for i in range(len(test)):\n",
    "    row = test.iloc[i]\n",
    "    maximo = 0\n",
    "    for L_value in test['label'].unique():\n",
    "        p = proportional_class_given_row(L_value, row)\n",
    "        if p > maximo:\n",
    "            maximo = p\n",
    "            arg = L_value\n",
    "    if arg == test.iloc[i]['label']:\n",
    "        correct += 1\n",
    "    else:\n",
    "        wrong += 1"
   ]
  },
  {
   "cell_type": "code",
   "execution_count": 23,
   "metadata": {},
   "outputs": [
    {
     "data": {
      "text/plain": [
       "2"
      ]
     },
     "execution_count": 23,
     "metadata": {},
     "output_type": "execute_result"
    }
   ],
   "source": [
    "list(train.columns).index('Amplitude')"
   ]
  },
  {
   "cell_type": "code",
   "execution_count": null,
   "metadata": {},
   "outputs": [],
   "source": []
  }
 ],
 "metadata": {
  "kernelspec": {
   "display_name": "Python 3",
   "language": "python",
   "name": "python3"
  },
  "language_info": {
   "codemirror_mode": {
    "name": "ipython",
    "version": 3
   },
   "file_extension": ".py",
   "mimetype": "text/x-python",
   "name": "python",
   "nbconvert_exporter": "python",
   "pygments_lexer": "ipython3",
   "version": "3.6.5"
  }
 },
 "nbformat": 4,
 "nbformat_minor": 2
}
