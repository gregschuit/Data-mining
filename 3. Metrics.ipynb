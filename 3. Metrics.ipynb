{
 "cells": [
  {
   "cell_type": "code",
   "execution_count": 60,
   "metadata": {},
   "outputs": [],
   "source": [
    "import numpy as np\n",
    "import pandas as pd\n",
    "from sklearn.ensemble import RandomForestClassifier\n",
    "from sklearn.model_selection import train_test_split\n",
    "from sklearn.metrics import confusion_matrix, f1_score, accuracy_score, precision_score, recall_score"
   ]
  },
  {
   "cell_type": "code",
   "execution_count": 9,
   "metadata": {},
   "outputs": [],
   "source": [
    "df = pd.read_csv('data/naive-db.csv')"
   ]
  },
  {
   "cell_type": "code",
   "execution_count": 10,
   "metadata": {},
   "outputs": [
    {
     "data": {
      "text/html": [
       "<div>\n",
       "<style scoped>\n",
       "    .dataframe tbody tr th:only-of-type {\n",
       "        vertical-align: middle;\n",
       "    }\n",
       "\n",
       "    .dataframe tbody tr th {\n",
       "        vertical-align: top;\n",
       "    }\n",
       "\n",
       "    .dataframe thead th {\n",
       "        text-align: right;\n",
       "    }\n",
       "</style>\n",
       "<table border=\"1\" class=\"dataframe\">\n",
       "  <thead>\n",
       "    <tr style=\"text-align: right;\">\n",
       "      <th></th>\n",
       "      <th>label</th>\n",
       "      <th>Amplitude_bin</th>\n",
       "      <th>Amplitude</th>\n",
       "      <th>Std_bin</th>\n",
       "      <th>Std</th>\n",
       "      <th>PeriodLS_bin</th>\n",
       "      <th>PeriodLS</th>\n",
       "      <th>Mean_bin</th>\n",
       "      <th>Mean</th>\n",
       "      <th>MaxSlope_bin</th>\n",
       "      <th>MaxSlope</th>\n",
       "      <th>Meanvariance_bin</th>\n",
       "      <th>Meanvariance</th>\n",
       "      <th>LinearTrend</th>\n",
       "      <th>LinearTrend_bin</th>\n",
       "    </tr>\n",
       "  </thead>\n",
       "  <tbody>\n",
       "    <tr>\n",
       "      <th>0</th>\n",
       "      <td>0</td>\n",
       "      <td>7</td>\n",
       "      <td>0.53300</td>\n",
       "      <td>6</td>\n",
       "      <td>0.283701</td>\n",
       "      <td>5</td>\n",
       "      <td>1.089524</td>\n",
       "      <td>17</td>\n",
       "      <td>19.338182</td>\n",
       "      <td>15</td>\n",
       "      <td>7.039598</td>\n",
       "      <td>3</td>\n",
       "      <td>0.014671</td>\n",
       "      <td>0.000036</td>\n",
       "      <td>11</td>\n",
       "    </tr>\n",
       "    <tr>\n",
       "      <th>1</th>\n",
       "      <td>0</td>\n",
       "      <td>6</td>\n",
       "      <td>0.27150</td>\n",
       "      <td>3</td>\n",
       "      <td>0.127947</td>\n",
       "      <td>7</td>\n",
       "      <td>3.209689</td>\n",
       "      <td>18</td>\n",
       "      <td>19.586202</td>\n",
       "      <td>15</td>\n",
       "      <td>10.640067</td>\n",
       "      <td>2</td>\n",
       "      <td>0.006533</td>\n",
       "      <td>-0.000015</td>\n",
       "      <td>10</td>\n",
       "    </tr>\n",
       "    <tr>\n",
       "      <th>2</th>\n",
       "      <td>0</td>\n",
       "      <td>6</td>\n",
       "      <td>0.30150</td>\n",
       "      <td>3</td>\n",
       "      <td>0.138996</td>\n",
       "      <td>6</td>\n",
       "      <td>2.268446</td>\n",
       "      <td>18</td>\n",
       "      <td>19.913902</td>\n",
       "      <td>15</td>\n",
       "      <td>21.778886</td>\n",
       "      <td>2</td>\n",
       "      <td>0.006980</td>\n",
       "      <td>-0.000007</td>\n",
       "      <td>11</td>\n",
       "    </tr>\n",
       "    <tr>\n",
       "      <th>3</th>\n",
       "      <td>0</td>\n",
       "      <td>5</td>\n",
       "      <td>0.16400</td>\n",
       "      <td>2</td>\n",
       "      <td>0.095606</td>\n",
       "      <td>5</td>\n",
       "      <td>1.561432</td>\n",
       "      <td>9</td>\n",
       "      <td>15.151209</td>\n",
       "      <td>15</td>\n",
       "      <td>0.353493</td>\n",
       "      <td>2</td>\n",
       "      <td>0.006310</td>\n",
       "      <td>0.000001</td>\n",
       "      <td>10</td>\n",
       "    </tr>\n",
       "    <tr>\n",
       "      <th>4</th>\n",
       "      <td>0</td>\n",
       "      <td>5</td>\n",
       "      <td>0.11125</td>\n",
       "      <td>2</td>\n",
       "      <td>0.056008</td>\n",
       "      <td>5</td>\n",
       "      <td>1.166648</td>\n",
       "      <td>15</td>\n",
       "      <td>18.361809</td>\n",
       "      <td>15</td>\n",
       "      <td>17.002882</td>\n",
       "      <td>1</td>\n",
       "      <td>0.003050</td>\n",
       "      <td>0.000002</td>\n",
       "      <td>11</td>\n",
       "    </tr>\n",
       "  </tbody>\n",
       "</table>\n",
       "</div>"
      ],
      "text/plain": [
       "   label  Amplitude_bin  Amplitude  Std_bin       Std  PeriodLS_bin  PeriodLS  \\\n",
       "0      0              7    0.53300        6  0.283701             5  1.089524   \n",
       "1      0              6    0.27150        3  0.127947             7  3.209689   \n",
       "2      0              6    0.30150        3  0.138996             6  2.268446   \n",
       "3      0              5    0.16400        2  0.095606             5  1.561432   \n",
       "4      0              5    0.11125        2  0.056008             5  1.166648   \n",
       "\n",
       "   Mean_bin       Mean  MaxSlope_bin   MaxSlope  Meanvariance_bin  \\\n",
       "0        17  19.338182            15   7.039598                 3   \n",
       "1        18  19.586202            15  10.640067                 2   \n",
       "2        18  19.913902            15  21.778886                 2   \n",
       "3         9  15.151209            15   0.353493                 2   \n",
       "4        15  18.361809            15  17.002882                 1   \n",
       "\n",
       "   Meanvariance  LinearTrend  LinearTrend_bin  \n",
       "0      0.014671     0.000036               11  \n",
       "1      0.006533    -0.000015               10  \n",
       "2      0.006980    -0.000007               11  \n",
       "3      0.006310     0.000001               10  \n",
       "4      0.003050     0.000002               11  "
      ]
     },
     "execution_count": 10,
     "metadata": {},
     "output_type": "execute_result"
    }
   ],
   "source": [
    "df.head()"
   ]
  },
  {
   "cell_type": "code",
   "execution_count": 73,
   "metadata": {},
   "outputs": [],
   "source": [
    "def hold_out(data, clf, target='label'):\n",
    "    X = data\n",
    "    y = data[target]\n",
    "    X_train, X_test, y_train, y_test = train_test_split(X, y, test_size=0.3, stratify=y)\n",
    "    \n",
    "    clf.fit(X_train, y_train)\n",
    "    y_pred = clf.predict(X_test)\n",
    "    f1 = f1_score(y_test, y_pred, average='micro')\n",
    "    recall = recall_score(y_test, y_pred, average='micro')\n",
    "    prec = precision_score(y_test, y_pred, average='micro')\n",
    "    accuracy = accuracy_score(y_test, y_pred)\n",
    "    matriz = confusion_matrix(y_test, y_pred)\n",
    "    return recall, prec, f1, accuracy, matriz"
   ]
  },
  {
   "cell_type": "code",
   "execution_count": 90,
   "metadata": {},
   "outputs": [],
   "source": [
    "def random_subsampling(data, clf, B, target='label'):\n",
    "    recall_sum = 0\n",
    "    prec_sum = 0\n",
    "    f1_sum = 0\n",
    "    accuracy_sum = 0\n",
    "    for i in range(B):\n",
    "        recall, prec, f1, accuracy, matriz = hold_out(data, clf)\n",
    "        recall_sum += recall / B\n",
    "        prec_sum += prec / B\n",
    "        f1_sum += f1 / B\n",
    "        accuracy_sum += accuracy / B\n",
    "    return recall_sum, prec_sum, f1_sum, accuracy_sum    "
   ]
  },
  {
   "cell_type": "code",
   "execution_count": 91,
   "metadata": {},
   "outputs": [],
   "source": [
    "clf = RandomForestClassifier(n_estimators=100, max_depth=5)"
   ]
  },
  {
   "cell_type": "code",
   "execution_count": 92,
   "metadata": {},
   "outputs": [
    {
     "data": {
      "text/plain": [
       "(0.9705947625388371,\n",
       " 0.9705947625388371,\n",
       " 0.9705947625388371,\n",
       " 0.9705947625388371,\n",
       " array([[2998,    2,    0,    0,    0,    0,    0],\n",
       "        [   0, 2490,    0,    1,    0,   11,    0],\n",
       "        [   0,    1, 2900,    0,    0,   99,    0],\n",
       "        [   0,    0,    4, 2992,    3,    1,    0],\n",
       "        [   1,    0,    2,   22, 2965,   10,    0],\n",
       "        [   1,    8,   15,    0,    1, 2975,    0],\n",
       "        [   0,    0,   50,  133,   86,   79,  174]]))"
      ]
     },
     "execution_count": 92,
     "metadata": {},
     "output_type": "execute_result"
    }
   ],
   "source": [
    "hold_out(df, clf)"
   ]
  },
  {
   "cell_type": "code",
   "execution_count": 93,
   "metadata": {},
   "outputs": [
    {
     "data": {
      "text/plain": [
       "(0.9694296493564136,\n",
       " 0.9694296493564136,\n",
       " 0.9694296493564136,\n",
       " 0.9694296493564136)"
      ]
     },
     "execution_count": 93,
     "metadata": {},
     "output_type": "execute_result"
    }
   ],
   "source": [
    "random_subsampling(df, clf, 2)"
   ]
  },
  {
   "cell_type": "code",
   "execution_count": 85,
   "metadata": {},
   "outputs": [],
   "source": [
    "recall, prec, f1, accuracy, matriz = hold_out(data, clf)"
   ]
  },
  {
   "cell_type": "code",
   "execution_count": null,
   "metadata": {},
   "outputs": [],
   "source": []
  }
 ],
 "metadata": {
  "kernelspec": {
   "display_name": "Python 3",
   "language": "python",
   "name": "python3"
  },
  "language_info": {
   "codemirror_mode": {
    "name": "ipython",
    "version": 3
   },
   "file_extension": ".py",
   "mimetype": "text/x-python",
   "name": "python",
   "nbconvert_exporter": "python",
   "pygments_lexer": "ipython3",
   "version": "3.6.5"
  }
 },
 "nbformat": 4,
 "nbformat_minor": 2
}
