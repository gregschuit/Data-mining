{
 "cells": [
  {
   "cell_type": "markdown",
   "metadata": {},
   "source": [
    "# Tarea 1: Algoritmo a priori"
   ]
  },
  {
   "cell_type": "markdown",
   "metadata": {},
   "source": [
    "IIC2344 - Minería de Datos  \n",
    "Gregory Schuit"
   ]
  },
  {
   "cell_type": "code",
   "execution_count": 1,
   "metadata": {},
   "outputs": [],
   "source": [
    "import numpy as np\n",
    "import pandas as pd\n",
    "from functools import reduce\n",
    "import time"
   ]
  },
  {
   "cell_type": "markdown",
   "metadata": {},
   "source": [
    "### Funciones"
   ]
  },
  {
   "cell_type": "code",
   "execution_count": 2,
   "metadata": {},
   "outputs": [],
   "source": [
    "def join(C, eliminados):\n",
    "    \"\"\"\n",
    "    input: Diccionario de itemsets como keys, junto con un set de itemsets (tuplas) \n",
    "            descartados en iteraciones anteriores.\n",
    "    output: Lista de itemsets generados listos para ser contados.\n",
    "    \"\"\"\n",
    "    \n",
    "    print(\"Executing join...\")\n",
    "    t1 = time.time()\n",
    "    L_out = []\n",
    "    total = len(C)\n",
    "    print('Minutes left: ')\n",
    "    \n",
    "    for i, set1 in enumerate(C):\n",
    "        t2 = time.time()\n",
    "        vel = (t2 - t1) / (i + 1)\n",
    "        print('{:.3f}'.format(vel * (total - i) / 60), end='\\r')\n",
    "        \n",
    "        tupla1 = tuple(sorted(set1))\n",
    "        \n",
    "        for set2 in C:\n",
    "            tupla2 = tuple(sorted(set2))\n",
    "            \n",
    "            for i in range(len(tupla1) - 1):\n",
    "                if tupla1[i] != tupla2[i]:\n",
    "                    break\n",
    "            else:\n",
    "                if tupla1[-1] < tupla2[-1]:\n",
    "                    new_set = set(set1)\n",
    "                    new_set.add(tupla2[-1])\n",
    "                    if not ((tupla1[-1], tupla2[-1]) in eliminados or (tupla2[-1], tupla1[-1]) in eliminados):\n",
    "                        L_out.append(new_set)\n",
    "\n",
    "    print('Time spent: {:.3f} minutes'.format((time.time() - t1) / 60))\n",
    "    return L_out"
   ]
  },
  {
   "cell_type": "code",
   "execution_count": 71,
   "metadata": {},
   "outputs": [],
   "source": [
    "def fit(data, UMBRAL):\n",
    "    '''\n",
    "    input: un diccionario con las listas de reproduccion\n",
    "    output: un diccionario con los itemsets frecuentes\n",
    "    '''\n",
    "    t0 = time.time()\n",
    "    print('Collecting songs...')\n",
    "    t1 = time.time()\n",
    "    listas = [set(x) for x in data[0][0].values()]\n",
    "    songs = reduce(lambda x,y: x | y, listas)  # len(L) = 132920\n",
    "    L = [set((x,)) for x in songs]\n",
    "    print('Time spent: {:.3f} seconds'.format(time.time() - t1))\n",
    "    \n",
    "    item_sets = []  # lista que se transformará en el output\n",
    "    eliminados = set()  # set de pares no frecuentes\n",
    "\n",
    "    j = 0\n",
    "    while True:  # break if L == []:\n",
    "        j += 1\n",
    "        print('Counting items on iteration number {}...'.format(j))\n",
    "        t1 = time.time()\n",
    "        C = {}  # Diccionario de tuplas (itemsets y sus frecuencias)\n",
    "        total = len(L)\n",
    "        \n",
    "        for i, itemset in enumerate(L):  # itera para contar frecuencias de los itemsets\n",
    "            if i % 1000 == 0:\n",
    "                t2 = time.time()\n",
    "                vel = (t2 - t1) / (i + 1)\n",
    "                print('Minutes left: {:.3f}'.format(vel * (total - i) / 60), end='\\r')\n",
    "\n",
    "            tupla = tuple(itemset)\n",
    "            C[tupla] = 0\n",
    "\n",
    "            for lista in listas:\n",
    "                if itemset.issubset(lista):\n",
    "                    C[tupla] += 1\n",
    "\n",
    "            if C[tupla] < UMBRAL:\n",
    "                C.pop(tupla)\n",
    "                if j == 2:  # Se registran solo los pares no frecuentes.\n",
    "                    eliminados.add(tupla)\n",
    "        \n",
    "        cfiltrado = {}\n",
    "        for key in C:\n",
    "            if C[key] > UMBRAL:\n",
    "                 cfiltrado[key] = C[key]\n",
    "            else:\n",
    "                L.remove(set(key))\n",
    "        C = cfiltrado\n",
    "        \n",
    "        print('Time spent: {:.3f} minutes'.format((time.time() - t1) / 60))\n",
    "        \n",
    "        if not L:\n",
    "            break\n",
    "        \n",
    "        item_sets.append(C)\n",
    "\n",
    "        L = join(C, eliminados)\n",
    "        \n",
    "    merged = item_sets[0]\n",
    "    for c in item_sets[1:]:\n",
    "        merged.update(c)\n",
    "    item_sets = merged\n",
    "    print('Total time: {:.3f} minutes'.format((time.time() - t0)/60))\n",
    "    return item_sets"
   ]
  },
  {
   "cell_type": "code",
   "execution_count": 72,
   "metadata": {},
   "outputs": [],
   "source": [
    "class Rule:\n",
    "    \"\"\"\n",
    "    Estructura para almacenar datos de una regla de asociación.\n",
    "    \"\"\"\n",
    "    \n",
    "    def __init__(self, itemset, antecedente, consecuente):\n",
    "        self.itemset = itemset\n",
    "        self.antecedente = antecedente\n",
    "        self.consecuente = consecuente\n",
    "        \n",
    "        self.total = 10000\n",
    "        self.supp_itemset = frequent_itemsets[itemset] / self.total\n",
    "        self.suppA = frequent_itemsets[antecedente] / self.total\n",
    "        self.suppC = frequent_itemsets[consecuente] / self.total\n",
    "        \n",
    "        self.conf = self.supp_itemset / self.suppA\n",
    "        \n",
    "        self.lift = self.conf / self.suppC\n",
    "        \n",
    "    def stats(self):\n",
    "        print('suppA: {:.3f}, suppC: {:.3f}, supp_itemset: {:.3f}, conf: {:.3f}, lift: {:.3f}'.format(self.suppA, \n",
    "                                                                                  self.suppC, \n",
    "                                                                                  self.supp_itemset,\n",
    "                                                                                  self.conf, \n",
    "                                                                                  self.lift))\n",
    "    \n",
    "    def __repr__(self):\n",
    "        return '{} => {}'.format(self.antecedente, self.consecuente)"
   ]
  },
  {
   "cell_type": "code",
   "execution_count": 73,
   "metadata": {},
   "outputs": [],
   "source": [
    "def generate(itemsets):\n",
    "    \"\"\"\n",
    "    input: diccionario de itemsets (tuplas)\n",
    "    output: rules\n",
    "    \"\"\"\n",
    "    for itemset in itemsets:  # Ordenamos todas las llaves\n",
    "        itemsets[tuple(sorted(itemset))] = itemsets.pop(itemset)\n",
    "\n",
    "    rules = []\n",
    "    for i in range(len(itemsets) - 1, 0, -1):\n",
    "        itemset = list(itemsets.keys())[i]\n",
    "        for j in range(i):\n",
    "            antecedente = list(itemsets.keys())[j]\n",
    "            if set(antecedente).issubset(set(itemset)):\n",
    "                consecuente = tuple(sorted([x for x in itemset if x not in antecedente]))\n",
    "                r = Rule(itemset, antecedente, consecuente)\n",
    "                rules.append(r)\n",
    "    return rules"
   ]
  },
  {
   "cell_type": "markdown",
   "metadata": {},
   "source": [
    "### Data processing"
   ]
  },
  {
   "cell_type": "code",
   "execution_count": 74,
   "metadata": {},
   "outputs": [],
   "source": [
    "data = np.load('spotify.npy').reshape(1,1)"
   ]
  },
  {
   "cell_type": "code",
   "execution_count": 75,
   "metadata": {},
   "outputs": [
    {
     "name": "stdout",
     "output_type": "stream",
     "text": [
      "Collecting songs...\n",
      "Time spent: 54.815 seconds\n",
      "Counting items on iteration number 1...\n",
      "Time spent: 4.994 minutes\n",
      "Executing join...\n",
      "Minutes left: \n",
      "Time spent: 0.037 minutes\n",
      "Counting items on iteration number 2...\n",
      "Time spent: 11.749 minutes\n",
      "Executing join...\n",
      "Minutes left: \n",
      "Time spent: 0.001 minutes\n",
      "Counting items on iteration number 3...\n",
      "Time spent: 0.012 minutes\n",
      "Executing join...\n",
      "Minutes left: \n",
      "Time spent: 0.000 minutes\n",
      "Counting items on iteration number 4...\n",
      "Time spent: 0.000 minutes\n",
      "Executing join...\n",
      "Minutes left: \n",
      "Time spent: 0.000 minutes\n",
      "Counting items on iteration number 5...\n",
      "Time spent: 0.000 minutes\n",
      "Total time: 17.709 minutes\n"
     ]
    }
   ],
   "source": [
    "frequent_itemsets = fit(data, 100)"
   ]
  },
  {
   "cell_type": "code",
   "execution_count": 76,
   "metadata": {},
   "outputs": [],
   "source": [
    "rules = generate(frequent_itemsets)"
   ]
  },
  {
   "cell_type": "markdown",
   "metadata": {},
   "source": [
    "### Análisis  "
   ]
  },
  {
   "cell_type": "code",
   "execution_count": 64,
   "metadata": {},
   "outputs": [
    {
     "name": "stdout",
     "output_type": "stream",
     "text": [
      "rango del soporte del antecedente: [0.0118, 0.0723]\n",
      "rango de la confianza: [0.141, 0.864]\n",
      "rango del lift: [3.709, 34.115]\n"
     ]
    }
   ],
   "source": [
    "print('rango del soporte del antecedente: [{:.4f}, {:.4f}]'.format(min([x.suppA for x in rules]), max([x.suppA for x in rules])))\n",
    "print('rango de la confianza: [{:.3f}, {:.3f}]'.format(min([x.conf for x in rules]), max([x.conf for x in rules])))\n",
    "print('rango del lift: [{:.3f}, {:.3f}]'.format(min([x.lift for x in rules]), max([x.lift for x in rules])))"
   ]
  },
  {
   "cell_type": "markdown",
   "metadata": {},
   "source": [
    "Para encontrar las mejores reglas de asociación, desplegaremos las 10 mejores de acuerdo a *confidence* y *lift*."
   ]
  },
  {
   "cell_type": "code",
   "execution_count": 125,
   "metadata": {},
   "outputs": [
    {
     "name": "stdout",
     "output_type": "stream",
     "text": [
      "SUPP_A   CONF    LIFT\n",
      "0.0118   0.864   18.589 ('DNA.', 'XO TOUR Llif3') => ('HUMBLE.',)\n",
      "0.0231   0.823   17.688 ('DNA.',) => ('HUMBLE.',)\n",
      "0.0163   0.804   17.283 ('Mask Off', 'XO TOUR Llif3') => ('HUMBLE.',)\n",
      "0.0132   0.765   16.455 ('Slippery (feat. Gucci Mane)', 'XO TOUR Llif3') => ('HUMBLE.',)\n",
      "0.0136   0.750   16.129 ('Tunnel Vision', 'XO TOUR Llif3') => ('HUMBLE.',)\n",
      "0.0162   0.747   16.063 ('Congratulations', 'Mask Off') => ('HUMBLE.',)\n",
      "0.0148   0.743   15.984 ('Mask Off', 'goosebumps') => ('HUMBLE.',)\n",
      "0.0136   0.743   15.971 ('Bounce Back', 'Mask Off') => ('HUMBLE.',)\n",
      "0.0139   0.734   22.719 ('HUMBLE.', 'Tunnel Vision') => ('XO TOUR Llif3',)\n",
      "0.0152   0.730   15.705 ('XO TOUR Llif3', 'goosebumps') => ('HUMBLE.',)\n"
     ]
    }
   ],
   "source": [
    "# Ordenamos de acuerdo a confianza.\n",
    "rules.sort(key=lambda x: x.conf, reverse=True)\n",
    "print('SUPP_A   CONF    LIFT')\n",
    "print(*['{:.4f}   {:.3f}   {:.3f} {}'.format(x.suppA, \n",
    "                                             x.conf,\n",
    "                                             x.lift,\n",
    "                                             x) for x in rules[:10]], sep='\\n')"
   ]
  },
  {
   "cell_type": "code",
   "execution_count": 126,
   "metadata": {},
   "outputs": [
    {
     "name": "stdout",
     "output_type": "stream",
     "text": [
      "SUPP_A   CONF    LIFT\n",
      "0.0148   0.696   34.115 ('No Heart',) => ('X (feat. Future)',)\n",
      "0.0204   0.505   34.115 ('X (feat. Future)',) => ('No Heart',)\n",
      "0.0214   0.500   31.847 ('Chicken Fried',) => ('Knee Deep (feat. Jimmy Buffett)',)\n",
      "0.0194   0.603   31.087 ('Money Longer',) => ('You Was Right',)\n",
      "0.0194   0.603   31.087 ('You Was Right',) => ('Money Longer',)\n",
      "0.0194   0.572   24.877 ('Butterfly Effect',) => ('Bank Account',)\n",
      "0.0230   0.483   24.877 ('Bank Account',) => ('Butterfly Effect',)\n",
      "0.0230   0.491   24.813 ('Bank Account',) => ('Magnolia',)\n",
      "0.0139   0.734   22.719 ('HUMBLE.', 'Tunnel Vision') => ('XO TOUR Llif3',)\n",
      "0.0323   0.316   22.719 ('XO TOUR Llif3',) => ('HUMBLE.', 'Tunnel Vision')\n"
     ]
    }
   ],
   "source": [
    "# Ordenamos de acuerdo a lift.\n",
    "rules.sort(key=lambda x: x.lift, reverse=True)\n",
    "print('SUPP_A   CONF    LIFT')\n",
    "print(*['{:.4f}   {:.3f}   {:.3f} {}'.format(x.suppA, \n",
    "                                             x.conf,\n",
    "                                             x.lift,\n",
    "                                             x) for x in rules[:10]], sep='\\n')"
   ]
  },
  {
   "cell_type": "markdown",
   "metadata": {},
   "source": [
    "Tambien seleccionaremos las reglas por los siguientes filtros:\n",
    "\n",
    "*conf* > 0.6 &  \n",
    "*suppA* > 0.02,   \n",
    "ordenado por *suppA*"
   ]
  },
  {
   "cell_type": "code",
   "execution_count": 140,
   "metadata": {},
   "outputs": [
    {
     "name": "stdout",
     "output_type": "stream",
     "text": [
      "SUPP_A   CONF    LIFT\n",
      "0.0323   0.632   13.582 ('XO TOUR Llif3',) => ('HUMBLE.',)\n",
      "0.0316   0.646   13.883 ('Mask Off',) => ('HUMBLE.',)\n",
      "0.0234   0.620   8.571 ('Cold Water (feat. Justin Bieber & MØ)',) => ('Closer',)\n",
      "0.0231   0.823   17.688 ('DNA.',) => ('HUMBLE.',)\n",
      "0.0206   0.602   14.646 ('Controlla',) => ('One Dance',)\n",
      "0.0204   0.642   20.321 ('HUMBLE.', 'XO TOUR Llif3') => ('Mask Off',)\n",
      "0.0204   0.642   19.881 ('HUMBLE.', 'Mask Off') => ('XO TOUR Llif3',)\n",
      "0.0204   0.627   15.570 ('HUMBLE.', 'XO TOUR Llif3') => ('Congratulations',)\n"
     ]
    }
   ],
   "source": [
    "rules.sort(key=lambda x: x.suppA, reverse=True)\n",
    "print('SUPP_A   CONF    LIFT')\n",
    "print(*['{:.4f}   {:.3f}   {:.3f} {}'.format(x.suppA, \n",
    "                                             x.conf,\n",
    "                                             x.lift,\n",
    "                                             x) for x in rules if x.conf > 0.6 and x.suppA > 0.02], sep='\\n')"
   ]
  },
  {
   "cell_type": "markdown",
   "metadata": {},
   "source": [
    "*conf* > 0.7 &  \n",
    "*lift* > 16,  \n",
    "ordenado por *lift*"
   ]
  },
  {
   "cell_type": "code",
   "execution_count": 152,
   "metadata": {},
   "outputs": [
    {
     "name": "stdout",
     "output_type": "stream",
     "text": [
      "SUPP_A   CONF    LIFT\n",
      "0.0139   0.734   22.719 ('HUMBLE.', 'Tunnel Vision') => ('XO TOUR Llif3',)\n",
      "0.0118   0.864   18.589 ('DNA.', 'XO TOUR Llif3') => ('HUMBLE.',)\n",
      "0.0231   0.823   17.688 ('DNA.',) => ('HUMBLE.',)\n",
      "0.0155   0.703   17.450 ('HUMBLE.', 'iSpy (feat. Lil Yachty)') => ('Congratulations',)\n",
      "0.0163   0.804   17.283 ('Mask Off', 'XO TOUR Llif3') => ('HUMBLE.',)\n",
      "0.0132   0.765   16.455 ('Slippery (feat. Gucci Mane)', 'XO TOUR Llif3') => ('HUMBLE.',)\n",
      "0.0136   0.750   16.129 ('Tunnel Vision', 'XO TOUR Llif3') => ('HUMBLE.',)\n",
      "0.0162   0.747   16.063 ('Congratulations', 'Mask Off') => ('HUMBLE.',)\n"
     ]
    }
   ],
   "source": [
    "rules.sort(key=lambda x: x.lift, reverse=True)\n",
    "print('SUPP_A   CONF    LIFT')\n",
    "print(*['{:.4f}   {:.3f}   {:.3f} {}'.format(x.suppA, \n",
    "                                             x.conf,\n",
    "                                             x.lift,\n",
    "                                             x) for x in rules if x.conf > 0.7 and x.lift > 16], sep='\\n')"
   ]
  },
  {
   "cell_type": "markdown",
   "metadata": {},
   "source": [
    "Algunas reglas que destacan son las siguientes:\n",
    "\n",
    "> {'DNA.', 'XO TOUR Llif3'} => {'HUMBLE.'}  \n",
    "> soporte del antecedente: 0.0118  \n",
    "> confianza: 0.864  \n",
    "> lift: 18.589  \n",
    "\n",
    "Esta regla destaca por ser la de mayor valor de confianza, esto significa que, dado un conjunto antecedente, la probabilidad del consecuente es la mayor posible. Con esta regla podemos decir que es altamente probable que la persona que escucha 'DNA' y 'XO TOUR Llif3',\n",
    "tambien le guste la canción 'HUMBLE.'."
   ]
  },
  {
   "cell_type": "markdown",
   "metadata": {},
   "source": [
    "> {'No Heart'} => {'X (feat. Future)'}  \n",
    "> soporte del antecedente: 0.0148  \n",
    "> confianza: 0.696  \n",
    "> lift: 34.115  \n",
    "\n",
    "Esta regla es la que tiene mayor *lift*, esto lo hace una regla que sube mucho la probabilidad de que una persona al azar escuche la canción 'X (feat. Future)', una vez que asumimos que tambien escucha 'No Heart'. Vemos que esta probabilidad se multiplica por un factor de 34."
   ]
  },
  {
   "cell_type": "markdown",
   "metadata": {},
   "source": [
    "> {'XO TOUR Llif3'} => {'HUMBLE.'}\n",
    "> soporte del antecedente: 0.0323  \n",
    "> confianza: 0.632  \n",
    "> lift: 13.582\n",
    "\n",
    "Esta regla es la que tiene mayor soporte del antecedente, dentro de las que tienen una confianza mayor a 0.6. Esta regla, al tener un soporte del antecedente igual a 0.0323, i.e. 323 listas de reproducción, se vuelve la que más importancia puede tener si se trata de abarcar a la mayor cantidad de personas posibles para recomendar una canción. Además, como el soporte del antecedente tiende a bajar la confianza, se mantiene un umbral de 0.6 para que la regla no pierda credibilidad."
   ]
  },
  {
   "cell_type": "markdown",
   "metadata": {},
   "source": [
    "> {'HUMBLE.', 'Tunnel Vision'} => {'XO TOUR Llif3'}  \n",
    "> soporte del antecedente: 0.0139  \n",
    "> confianza: 0.734  \n",
    "> lift: 22.719\n",
    "\n",
    "Esta regla es la que tiene mayor lift dentro de las que tienen una confianza mayor a 0.7. El lift, al medir cuanto cambia la probabilidad de que a un usuario le guste 'XO TOUR Llif3' con y sin 'HUMBLE.' y 'Tunnel Vision' en su playlist, puede dejar de lado la confianza, que aunque el lift sea muy alto, podría ser baja si la canción en general es desconocida para cualquier persona, es decir, la regla de asociación podría tener un soporte del consecuente muy bajo. Esta situación, le quita peso a la regla de asociación, ya que la confianza es el indicador de la probabilidad de que la canción recomendada termine gusantándole al usuario que escucha las otras dos canciones antecedentes."
   ]
  },
  {
   "cell_type": "markdown",
   "metadata": {},
   "source": [
    "## Visualización"
   ]
  },
  {
   "cell_type": "markdown",
   "metadata": {},
   "source": [
    "A continuación se presenta la visualización de algunas reglas de asociación obtenidas. La idea es graficar nodos blancos y rojos en un grafo dirigido. Los nodos blancos representarán canciones junto con su nombre, y los rojos serán reglas de asociación.Luego, las aristas del grafo salen de canciones antecedentes hacia un nodo que representa una regla, y luego llegan a una canción consecuente. El nodo regla puede tener diferentes tamaños, que representarán la confianza, y la tonalidad del rojo representará el lift de la regla.  \n",
    "**Referencia**: https://dev.solita.fi/2018/04/03/visualizing_association_rules.html"
   ]
  },
  {
   "cell_type": "code",
   "execution_count": 146,
   "metadata": {},
   "outputs": [],
   "source": [
    "from __future__ import division\n",
    "import matplotlib as mpl\n",
    "import matplotlib.pyplot as plt\n",
    "import networkx as nx"
   ]
  },
  {
   "cell_type": "code",
   "execution_count": 169,
   "metadata": {},
   "outputs": [
    {
     "data": {
      "text/plain": [
       "[('HUMBLE.', 'Tunnel Vision') => ('XO TOUR Llif3',),\n",
       " ('DNA.', 'XO TOUR Llif3') => ('HUMBLE.',),\n",
       " ('DNA.',) => ('HUMBLE.',),\n",
       " ('HUMBLE.', 'iSpy (feat. Lil Yachty)') => ('Congratulations',),\n",
       " ('Mask Off', 'XO TOUR Llif3') => ('HUMBLE.',),\n",
       " ('Slippery (feat. Gucci Mane)', 'XO TOUR Llif3') => ('HUMBLE.',),\n",
       " ('Tunnel Vision', 'XO TOUR Llif3') => ('HUMBLE.',),\n",
       " ('Congratulations', 'Mask Off') => ('HUMBLE.',)]"
      ]
     },
     "execution_count": 169,
     "metadata": {},
     "output_type": "execute_result"
    }
   ],
   "source": [
    "# Reglas a graficar\n",
    "reglas = [x for x in rules if x.lift > 16 and x.conf > 0.7]\n",
    "reglas"
   ]
  },
  {
   "cell_type": "code",
   "execution_count": 170,
   "metadata": {},
   "outputs": [
    {
     "data": {
      "text/plain": [
       "8"
      ]
     },
     "execution_count": 170,
     "metadata": {},
     "output_type": "execute_result"
    }
   ],
   "source": [
    "canciones = []  # canciones que se ocupan en las reglas\n",
    "for r in reglas:\n",
    "    for a in r.antecedente:\n",
    "        if a not in canciones:\n",
    "            canciones.append(a)\n",
    "    for c in r.consecuente:\n",
    "        if a not in canciones:\n",
    "            canciones.append(c)\n",
    "len(canciones)"
   ]
  },
  {
   "cell_type": "code",
   "execution_count": 184,
   "metadata": {},
   "outputs": [
    {
     "data": {
      "image/png": "[encoded data removed]",
      "text/plain": [
       "<Figure size 432x288 with 2 Axes>"
      ]
     },
     "metadata": {},
     "output_type": "display_data"
    }
   ],
   "source": [
    "G = nx.generators.directed.gn_graph(16)\n",
    "\n",
    "# G.add_edge('hola', '2')\n",
    "pos = nx.layout.spring_layout(G)\n",
    "sizes = [x.conf for x in reglas]\n",
    "\n",
    "size_min = min([x.conf for x in reglas])\n",
    "size_max = max([x.conf for x in reglas])\n",
    "rango_size = (size_max - size_min) * 100\n",
    "\n",
    "node_sizes = [int(size_min + rango_size * i) for i in range(len(G))]\n",
    "M = G.number_of_nodes()\n",
    "\n",
    "\n",
    "lift_min = min([x.lift for x in reglas])\n",
    "lift_max = max([x.lift for x in reglas])\n",
    "rango = (lift_max - lift_min) / M\n",
    "edge_colors = [lift_min + int(rango*i) for i in range(2, M + 2)]\n",
    "\n",
    "nodes = nx.draw_networkx_nodes(G, pos, node_size=node_sizes, node_color=edge_colors, \n",
    "                              cmap=plt.cm.Reds)\n",
    "# edges = nx.draw_networkx_edges(G, pos, node_size=node_sizes, arrowstyle='->',\n",
    "#                                arrowsize=20, edge_color='black', width=0.5)\n",
    "\n",
    "canciones = nx.draw_networkx_nodes(G, pos, node_size=node_sizes, node_color=edge_colors, \n",
    "                               cmap=plt.cm.Reds)\n",
    "\n",
    "pc = mpl.collections.PatchCollection(edges, cmap=plt.cm.Reds)\n",
    "pc.set_array(edge_colors)\n",
    "plt.colorbar(pc)\n",
    "\n",
    "ax = plt.gca()\n",
    "ax.set_axis_off()\n",
    "plt.show()"
   ]
  },
  {
   "cell_type": "code",
   "execution_count": null,
   "metadata": {},
   "outputs": [],
   "source": []
  }
 ],
 "metadata": {
  "kernelspec": {
   "display_name": "Python 3",
   "language": "python",
   "name": "python3"
  },
  "language_info": {
   "codemirror_mode": {
    "name": "ipython",
    "version": 3
   },
   "file_extension": ".py",
   "mimetype": "text/x-python",
   "name": "python",
   "nbconvert_exporter": "python",
   "pygments_lexer": "ipython3",
   "version": "3.6.5"
  }
 },
 "nbformat": 4,
 "nbformat_minor": 2
}
